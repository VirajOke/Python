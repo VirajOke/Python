{
 "cells": [
  {
   "cell_type": "code",
   "execution_count": 177,
   "metadata": {},
   "outputs": [],
   "source": [
    "import re"
   ]
  },
  {
   "cell_type": "code",
   "execution_count": 181,
   "metadata": {
    "scrolled": false
   },
   "outputs": [],
   "source": [
    "def re_prac(S,words):\n",
    "    alpha= S\n",
    "    n= len(S)\n",
    "    temp= []\n",
    "    count = 0 \n",
    "    for word in words:\n",
    "        for i in alpha:\n",
    "            if i in S and word:\n",
    "                regex= r'{}'.format(i)\n",
    "                len_s= len(re.findall(regex, S))\n",
    "                len_word= len(re.findall(regex, word))\n",
    "                # print(i,S,len_s, word,len_word)\n",
    "                x= abs(len_s - len_word)\n",
    "                if x + len_word == len_s and len_s>=3 and i in word or len_word == len_s :\n",
    "                    flag = True\n",
    "                else: \n",
    "                    flag= False\n",
    "                temp.append(flag)      \n",
    "                #print(word, i, flag)\n",
    "        #print(\"loop\",temp) \n",
    "        check = all(temp)\n",
    "        if check == True:\n",
    "            count +=1\n",
    "        temp.clear()\n",
    "    return print(\"Number of stretchy words are:\",count)"
   ]
  },
  {
   "cell_type": "code",
   "execution_count": 182,
   "metadata": {
    "scrolled": true
   },
   "outputs": [
    {
     "name": "stdout",
     "output_type": "stream",
     "text": [
      "Number of stretchy words are: 1\n"
     ]
    }
   ],
   "source": [
    "S = \"heeellooo\"\n",
    "words = [\"hello\", \"hi\", \"helo\"] \n",
    "re_prac(S,words)"
   ]
  },
  {
   "cell_type": "code",
   "execution_count": 183,
   "metadata": {},
   "outputs": [
    {
     "name": "stdout",
     "output_type": "stream",
     "text": [
      "Number of stretchy words are: 2\n"
     ]
    }
   ],
   "source": [
    "S = \"heeellooo\"\n",
    "words = [\"hello\", \"hi\", \"helo\", \"elho\",\"hello\"] #I have added a few strings to check if the code is generalized \n",
    "re_prac(S,words)"
   ]
  },
  {
   "cell_type": "code",
   "execution_count": null,
   "metadata": {},
   "outputs": [],
   "source": []
  }
 ],
 "metadata": {
  "kernelspec": {
   "display_name": "Python 3",
   "language": "python",
   "name": "python3"
  },
  "language_info": {
   "codemirror_mode": {
    "name": "ipython",
    "version": 3
   },
   "file_extension": ".py",
   "mimetype": "text/x-python",
   "name": "python",
   "nbconvert_exporter": "python",
   "pygments_lexer": "ipython3",
   "version": "3.7.1"
  }
 },
 "nbformat": 4,
 "nbformat_minor": 2
}
